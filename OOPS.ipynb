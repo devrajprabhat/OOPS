{
  "nbformat": 4,
  "nbformat_minor": 0,
  "metadata": {
    "colab": {
      "provenance": []
    },
    "kernelspec": {
      "name": "python3",
      "display_name": "Python 3"
    },
    "language_info": {
      "name": "python"
    }
  },
  "cells": [
    {
      "cell_type": "markdown",
      "source": [
        "## OOPS QUESTION"
      ],
      "metadata": {
        "id": "6K0Ldo7GruEx"
      }
    },
    {
      "cell_type": "markdown",
      "source": [
        "1. What is Object-Oriented Programming (OOP)?\n",
        "   - OOP is a programming paradigm based on the concept of “objects,” which can contain data and methods. It models real-world entities and promotes code reusability and modularity."
      ],
      "metadata": {
        "id": "ylm8QazLm6mx"
      }
    },
    {
      "cell_type": "markdown",
      "source": [
        "2. What is a class in OOP?\n",
        "   - A class is a blueprint or template for creating objects. It defines attributes and methods that the created objects will have.\n"
      ],
      "metadata": {
        "id": "fXzRfvqKnWRY"
      }
    },
    {
      "cell_type": "markdown",
      "source": [
        "3. What is an object in OOP?\n",
        "   - An object is an instance of a class. It represents a real-world entity and contains data and behavior defined in the class."
      ],
      "metadata": {
        "id": "gFwDiR1HnkEz"
      }
    },
    {
      "cell_type": "markdown",
      "source": [
        "4. What is the difference between abstraction and encapsulation?\n",
        "   - Abstraction hides implementation details and shows only relevant features.\n",
        "   - Encapsulation binds data and methods together and restricts direct access to some of the object’s components."
      ],
      "metadata": {
        "id": "WQk32zS7no8f"
      }
    },
    {
      "cell_type": "markdown",
      "source": [
        "5. What are dunder methods in Python?\n",
        "   - Dunder (double underscore) methods like __init__, __str__, and __repr__ are special methods used to define the behavior of objects. They're also known as magic methods."
      ],
      "metadata": {
        "id": "qbCZhkNkn3YH"
      }
    },
    {
      "cell_type": "markdown",
      "source": [
        "6. Explain the concept of inheritance in OOP.\n",
        "   - Inheritance allows a class (child) to inherit properties and behaviors from another class (parent), promoting code reuse."
      ],
      "metadata": {
        "id": "f-iAEAS3n-Nc"
      }
    },
    {
      "cell_type": "markdown",
      "source": [
        "7. What is polymorphism in OOP?\n",
        "   - Polymorphism allows objects of different classes to be treated as objects of a common superclass. Methods can behave differently based on the object calling them."
      ],
      "metadata": {
        "id": "ERMmqWx9oDaZ"
      }
    },
    {
      "cell_type": "markdown",
      "source": [
        "8. How is encapsulation achieved in Python?\n",
        "   - By making variables private using a single (_) or double underscore (__) and controlling access using getters and setters.\n"
      ],
      "metadata": {
        "id": "ECkGlpD5oJOB"
      }
    },
    {
      "cell_type": "markdown",
      "source": [
        "9. What is a constructor in Python?\n",
        "   - A constructor is a special method called __init__() that initializes object properties when an object is created."
      ],
      "metadata": {
        "id": "c01pMB8UoQ0_"
      }
    },
    {
      "cell_type": "markdown",
      "source": [
        "10. What are class and static methods in Python?\n",
        "   - Class Method: Uses @classmethod and receives cls as the first argument. Can modify class state.\n",
        "  - Static Method: Uses @staticmethod, doesn't take self or cls. Utility method."
      ],
      "metadata": {
        "id": "TMN7GiwKoWCn"
      }
    },
    {
      "cell_type": "markdown",
      "source": [
        "11. What is method overloading in Python?\n",
        "   - Python doesn’t support traditional method overloading. But similar functionality can be achieved using default arguments or *args."
      ],
      "metadata": {
        "id": "nMd4mH4Goh5s"
      }
    },
    {
      "cell_type": "markdown",
      "source": [
        "12. What is method overriding in OOP?\n",
        "   - When a subclass provides a specific implementation of a method already defined in its parent class."
      ],
      "metadata": {
        "id": "naQou1g2or79"
      }
    },
    {
      "cell_type": "markdown",
      "source": [
        "13. What is a property decorator in Python?\n",
        "   - @property allows you to define methods that can be accessed like attributes. Used for getter/setter functionality."
      ],
      "metadata": {
        "id": "NnomPE2PowbC"
      }
    },
    {
      "cell_type": "markdown",
      "source": [
        "14. Why is polymorphism important in OOP?\n",
        "   - It enables flexibility and reusability, allowing different objects to respond differently to the same method."
      ],
      "metadata": {
        "id": "77UKy0aGo2pB"
      }
    },
    {
      "cell_type": "markdown",
      "source": [
        "15. What is an abstract class in Python?\n",
        "   - A class with one or more abstract methods (methods without implementation). It is created using the abc module."
      ],
      "metadata": {
        "id": "u8BaRmbho8H5"
      }
    },
    {
      "cell_type": "code",
      "source": [
        "from abc import ABC, abstractmethod\n",
        "class Shape(ABC):\n",
        "    @abstractmethod\n",
        "    def area(self): pass"
      ],
      "metadata": {
        "id": "IZ7iTXdZpA4C"
      },
      "execution_count": 1,
      "outputs": []
    },
    {
      "cell_type": "markdown",
      "source": [
        "16. What are the advantages of OOP?\n",
        "- Code reusability\n",
        "- Data security\n",
        "- Modularity\n",
        "- Easier debugging and maintenance\n",
        "- Real-world modeling"
      ],
      "metadata": {
        "id": "vXUZdm6dpIsa"
      }
    },
    {
      "cell_type": "markdown",
      "source": [
        "17. What is multiple inheritance in Python?\n",
        "   - When a class inherits from more than one base class."
      ],
      "metadata": {
        "id": "9KDWvyUFpWd2"
      }
    },
    {
      "cell_type": "code",
      "source": [
        "class A: pass\n",
        "class B: pass\n",
        "class C(A, B): pass"
      ],
      "metadata": {
        "id": "xyssIdJvpd1U"
      },
      "execution_count": 2,
      "outputs": []
    },
    {
      "cell_type": "markdown",
      "source": [
        "18. What is the difference between a class variable and an instance variable?\n",
        "   - Class Variable: Shared across all objects. Defined inside the class but outside methods.\n",
        "   - Instance Variable: Unique to each object. Defined using self."
      ],
      "metadata": {
        "id": "pAQl6KLjphfl"
      }
    },
    {
      "cell_type": "markdown",
      "source": [
        "19. Explain the purpose of __str__ and __repr__ methods in Python.\n",
        "   - __str__: Used by print() to return a readable string representation.\n",
        "   - __repr__: Returns an unambiguous string, helpful for debugging."
      ],
      "metadata": {
        "id": "ooeKdKbvptJ4"
      }
    },
    {
      "cell_type": "markdown",
      "source": [
        "20. What is the significance of the super() function in Python?\n",
        "   - It allows access to methods of the parent class. Used in method overriding and constructors."
      ],
      "metadata": {
        "id": "nMjZjlpapzmn"
      }
    },
    {
      "cell_type": "markdown",
      "source": [
        "21. What is the significance of the __del__ method in Python?\n",
        "   - It is a destructor method called when an object is about to be destroyed (e.g., garbage collected)."
      ],
      "metadata": {
        "id": "zM8Wafz4p5St"
      }
    },
    {
      "cell_type": "markdown",
      "source": [
        "22. What is the difference between @staticmethod and @classmethod in Python?\n",
        "- *Feature\t           *Static Method              \t*Class Method\n",
        "- *Decorator   \t         *@staticmethod            \t*@classmethod\n",
        "- *First Argument\t         *None\t                    *cls\n",
        "- *Access Class Data       \t*No\t                     *Yes"
      ],
      "metadata": {
        "id": "jq3jtG18p-YM"
      }
    },
    {
      "cell_type": "markdown",
      "source": [
        "23. How does polymorphism work in Python with inheritance?\n",
        " -  By using method overriding, where a subclass redefines a method from its parent class. Python dynamically decides which method to call at runtime."
      ],
      "metadata": {
        "id": "HcNowiQuq7Y2"
      }
    },
    {
      "cell_type": "markdown",
      "source": [
        "24. What is method chaining in Python OOP?\n",
        "   - Calling multiple methods on the same object in a single line using return self."
      ],
      "metadata": {
        "id": "CvWmHg9zrZq5"
      }
    },
    {
      "cell_type": "code",
      "source": [
        "class Test:\n",
        "    def one(self): print(\"1\"); return self\n",
        "    def two(self): print(\"2\"); return self\n",
        "\n",
        "t = Test().one().two()"
      ],
      "metadata": {
        "colab": {
          "base_uri": "https://localhost:8080/"
        },
        "id": "LigotOCZreyW",
        "outputId": "2107b9ff-03ea-441c-a15f-5e1b2a9fffe5"
      },
      "execution_count": 3,
      "outputs": [
        {
          "output_type": "stream",
          "name": "stdout",
          "text": [
            "1\n",
            "2\n"
          ]
        }
      ]
    },
    {
      "cell_type": "markdown",
      "source": [
        "25. What is the purpose of the __call__ method in Python?\n",
        "   - Allows an object to be called like a function."
      ],
      "metadata": {
        "id": "mHdoG159rijR"
      }
    },
    {
      "cell_type": "code",
      "source": [
        "class MyClass:\n",
        "    def __call__(self):\n",
        "        print(\"Called!\")\n",
        "obj = MyClass()\n",
        "obj()  # Output: Called!"
      ],
      "metadata": {
        "colab": {
          "base_uri": "https://localhost:8080/"
        },
        "id": "geG0IgH-rqra",
        "outputId": "7fbea25e-01c4-4566-c112-082154d8537f"
      },
      "execution_count": 4,
      "outputs": [
        {
          "output_type": "stream",
          "name": "stdout",
          "text": [
            "Called!\n"
          ]
        }
      ]
    },
    {
      "cell_type": "markdown",
      "source": [
        "# **OOPS PARATICAL QUESTION**"
      ],
      "metadata": {
        "id": "7oZr_UFTsDKF"
      }
    },
    {
      "cell_type": "code",
      "source": [
        "#  1. Create a parent class Animal with a method speak() that prints a generic message. Create a child class Dog\n",
        "# that overrides the speak() method to print \"Bark!\"\n",
        "class Animal:\n",
        "    def speak(self):\n",
        "        print(\"Animal speaks something\")\n",
        "\n",
        "class Dog(Animal):\n",
        "    def speak(self):\n",
        "        print(\"Bark!\")\n",
        "\n",
        "d = Dog()\n",
        "d.speak()"
      ],
      "metadata": {
        "colab": {
          "base_uri": "https://localhost:8080/"
        },
        "id": "EUKkiTMStnVF",
        "outputId": "cae67a58-6426-4051-89ef-95c31fa8f216"
      },
      "execution_count": 5,
      "outputs": [
        {
          "output_type": "stream",
          "name": "stdout",
          "text": [
            "Bark!\n"
          ]
        }
      ]
    },
    {
      "cell_type": "code",
      "source": [
        "#  2. Write a program to create an abstract class Shape with a method area(). Derive classes Circle and Rectangle\n",
        "# from it and implement the area() method in both.\n",
        "from abc import ABC, abstractmethod\n",
        "\n",
        "class Shape(ABC):\n",
        "    @abstractmethod\n",
        "    def area(self):\n",
        "        pass\n",
        "\n",
        "class Circle(Shape):\n",
        "    def __init__(self, radius):\n",
        "        self.radius = radius\n",
        "\n",
        "    def area(self):\n",
        "        return 3.14 * self.radius * self.radius\n",
        "\n",
        "class Rectangle(Shape):\n",
        "    def __init__(self, length, width):\n",
        "        self.length = length\n",
        "        self.width = width\n",
        "\n",
        "    def area(self):\n",
        "        return self.length * self.width\n",
        "\n",
        "c = Circle(5)\n",
        "r = Rectangle(4, 6)\n",
        "print(\"Circle area:\", c.area())\n",
        "print(\"Rectangle area:\", r.area())"
      ],
      "metadata": {
        "colab": {
          "base_uri": "https://localhost:8080/"
        },
        "id": "qfvS36W6tum7",
        "outputId": "4cd00b0e-a934-4122-b27c-3c2a5710188f"
      },
      "execution_count": 6,
      "outputs": [
        {
          "output_type": "stream",
          "name": "stdout",
          "text": [
            "Circle area: 78.5\n",
            "Rectangle area: 24\n"
          ]
        }
      ]
    },
    {
      "cell_type": "code",
      "source": [
        "#  3. Implement a multi-level inheritance scenario where a class Vehicle has an attribute type. Derive a class Car\n",
        "# and further derive a class ElectricCar that adds a battery attribute.\n",
        "class Vehicle:\n",
        "    def __init__(self, vehicle_type):\n",
        "        self.type = vehicle_type\n",
        "\n",
        "class Car(Vehicle):\n",
        "    def __init__(self, vehicle_type, brand):\n",
        "        super().__init__(vehicle_type)\n",
        "        self.brand = brand\n",
        "\n",
        "class ElectricCar(Car):\n",
        "    def __init__(self, vehicle_type, brand, battery):\n",
        "        super().__init__(vehicle_type, brand)\n",
        "        self.battery = battery\n",
        "\n",
        "e = ElectricCar(\"Car\", \"Tesla\", \"100 kWh\")\n",
        "print(e.type, e.brand, e.battery)"
      ],
      "metadata": {
        "colab": {
          "base_uri": "https://localhost:8080/"
        },
        "id": "GOjTWXUKuD_z",
        "outputId": "9336d21a-c4d2-4c1a-c4bb-a5c73e7d55ea"
      },
      "execution_count": 7,
      "outputs": [
        {
          "output_type": "stream",
          "name": "stdout",
          "text": [
            "Car Tesla 100 kWh\n"
          ]
        }
      ]
    },
    {
      "cell_type": "code",
      "source": [
        "#  4. Demonstrate polymorphism by creating a base class Bird with a method fly(). Create two derived classes\n",
        "# Sparrow and Penguin that override the fly() method.\n",
        "class Bird:\n",
        "    def fly(self):\n",
        "        print(\"Bird is flying\")\n",
        "\n",
        "class Sparrow(Bird):\n",
        "    def fly(self):\n",
        "        print(\"Sparrow flies high\")\n",
        "\n",
        "class Penguin(Bird):\n",
        "    def fly(self):\n",
        "        print(\"Penguin can't fly\")\n",
        "\n",
        "for bird in [Sparrow(), Penguin()]:\n",
        "    bird.fly()"
      ],
      "metadata": {
        "colab": {
          "base_uri": "https://localhost:8080/"
        },
        "id": "Jm1VXvhGuYrf",
        "outputId": "a234f4a1-61fd-44c0-e047-a6786baa88b2"
      },
      "execution_count": 8,
      "outputs": [
        {
          "output_type": "stream",
          "name": "stdout",
          "text": [
            "Sparrow flies high\n",
            "Penguin can't fly\n"
          ]
        }
      ]
    },
    {
      "cell_type": "code",
      "source": [
        "# 5. Write a program to demonstrate encapsulation by creating a class BankAccount with private attributes\n",
        "# balance and methods to deposit, withdraw, and check balance.\n",
        "class BankAccount:\n",
        "    def __init__(self):\n",
        "        self.__balance = 0\n",
        "\n",
        "    def deposit(self, amount):\n",
        "        self.__balance += amount\n",
        "\n",
        "    def withdraw(self, amount):\n",
        "        if amount <= self.__balance:\n",
        "            self.__balance -= amount\n",
        "        else:\n",
        "            print(\"Insufficient funds\")\n",
        "\n",
        "    def get_balance(self):\n",
        "        return self.__balance\n",
        "\n",
        "acc = BankAccount()\n",
        "acc.deposit(1000)\n",
        "acc.withdraw(500)\n",
        "print(\"Balance:\", acc.get_balance())"
      ],
      "metadata": {
        "colab": {
          "base_uri": "https://localhost:8080/"
        },
        "id": "SpngVbMWuk0n",
        "outputId": "e3dbd2a1-6e72-46ce-f1bd-236fcef4a436"
      },
      "execution_count": 9,
      "outputs": [
        {
          "output_type": "stream",
          "name": "stdout",
          "text": [
            "Balance: 500\n"
          ]
        }
      ]
    },
    {
      "cell_type": "code",
      "source": [
        "# 6. Demonstrate runtime polymorphism using a method play() in a base class Instrument. Derive classes Guitar\n",
        "# and Piano that implement their own version of play()\n",
        "class Instrument:\n",
        "    def play(self):\n",
        "        print(\"Instrument is playing\")\n",
        "\n",
        "class Guitar(Instrument):\n",
        "    def play(self):\n",
        "        print(\"Playing guitar\")\n",
        "\n",
        "class Piano(Instrument):\n",
        "    def play(self):\n",
        "        print(\"Playing piano\")\n",
        "\n",
        "for i in [Guitar(), Piano()]:\n",
        "    i.play()"
      ],
      "metadata": {
        "colab": {
          "base_uri": "https://localhost:8080/"
        },
        "id": "JYI4dPP6uzRP",
        "outputId": "ccc4ade6-cb79-460d-c21c-8760080373b2"
      },
      "execution_count": 11,
      "outputs": [
        {
          "output_type": "stream",
          "name": "stdout",
          "text": [
            "Playing guitar\n",
            "Playing piano\n"
          ]
        }
      ]
    },
    {
      "cell_type": "code",
      "source": [
        "#  7. Create a class MathOperations with a class method add_numbers() to add two numbers and a static\n",
        "# method subtract_numbers() to subtract two numbers.\n",
        "class MathOperations:\n",
        "    @classmethod\n",
        "    def add_numbers(cls, a, b):\n",
        "        return a + b\n",
        "\n",
        "    @staticmethod\n",
        "    def subtract_numbers(a, b):\n",
        "        return a - b\n",
        "\n",
        "print(MathOperations.add_numbers(5, 3))\n",
        "print(MathOperations.subtract_numbers(10, 4))"
      ],
      "metadata": {
        "colab": {
          "base_uri": "https://localhost:8080/"
        },
        "id": "3njLWUOZu5Xo",
        "outputId": "d62a15da-8ae9-47f7-80f6-f5a88e0edfdb"
      },
      "execution_count": 12,
      "outputs": [
        {
          "output_type": "stream",
          "name": "stdout",
          "text": [
            "8\n",
            "6\n"
          ]
        }
      ]
    },
    {
      "cell_type": "code",
      "source": [
        "# 8. Implement a class Person with a class method to count the total number of persons created.\n",
        "class Person:\n",
        "    count = 0\n",
        "\n",
        "    def __init__(self, name):\n",
        "        self.name = name\n",
        "        Person.count += 1\n",
        "\n",
        "    @classmethod\n",
        "    def total_persons(cls):\n",
        "        return cls.count\n",
        "\n",
        "p1 = Person(\"A\")\n",
        "p2 = Person(\"B\")\n",
        "print(\"Total persons:\", Person.total_persons())"
      ],
      "metadata": {
        "colab": {
          "base_uri": "https://localhost:8080/"
        },
        "id": "s3gJ5owzu-MH",
        "outputId": "031983b2-0cf0-449c-eb98-8e0cb4cda952"
      },
      "execution_count": 13,
      "outputs": [
        {
          "output_type": "stream",
          "name": "stdout",
          "text": [
            "Total persons: 2\n"
          ]
        }
      ]
    },
    {
      "cell_type": "code",
      "source": [
        "#  9. Write a class Fraction with attributes numerator and denominator. Override the str method to display the\n",
        "# fraction as \"numerator/denominator\".\n",
        "class Fraction:\n",
        "    def __init__(self, num, den):\n",
        "        self.num = num\n",
        "        self.den = den\n",
        "\n",
        "    def __str__(self):\n",
        "        return f\"{self.num}/{self.den}\"\n",
        "\n",
        "f = Fraction(3, 4)\n",
        "print(f)"
      ],
      "metadata": {
        "colab": {
          "base_uri": "https://localhost:8080/"
        },
        "id": "sDKMJFkQvDV6",
        "outputId": "224ac4e1-799b-41d3-908a-8b47d7fd97f6"
      },
      "execution_count": 14,
      "outputs": [
        {
          "output_type": "stream",
          "name": "stdout",
          "text": [
            "3/4\n"
          ]
        }
      ]
    },
    {
      "cell_type": "code",
      "source": [
        "#  10. Demonstrate operator overloading by creating a class Vector and overriding the add method to add two\n",
        "# vectors.\n",
        "class Vector:\n",
        "    def __init__(self, x, y):\n",
        "        self.x = x\n",
        "        self.y = y\n",
        "\n",
        "    def __add__(self, other):\n",
        "        return Vector(self.x + other.x, self.y + other.y)\n",
        "\n",
        "    def __str__(self):\n",
        "        return f\"({self.x}, {self.y})\"\n",
        "\n",
        "v1 = Vector(1, 2)\n",
        "v2 = Vector(3, 4)\n",
        "print(v1 + v2)"
      ],
      "metadata": {
        "colab": {
          "base_uri": "https://localhost:8080/"
        },
        "id": "CI8hw-vcvTx9",
        "outputId": "a7ed1412-1c46-4a73-c673-db6351c31b7a"
      },
      "execution_count": 15,
      "outputs": [
        {
          "output_type": "stream",
          "name": "stdout",
          "text": [
            "(4, 6)\n"
          ]
        }
      ]
    },
    {
      "cell_type": "code",
      "source": [
        "#  11. Create a class Person with attributes name and age. Add a method greet() that prints \"Hello, my name is\n",
        "# {name} and I am {age} years old.\"\n",
        "class Person:\n",
        "    def __init__(self, name, age):\n",
        "        self.name = name\n",
        "        self.age = age\n",
        "\n",
        "    def greet(self):\n",
        "        print(f\"Hello, my name is {self.name} and I am {self.age} years old.\")\n",
        "\n",
        "p = Person(\"John\", 30)\n",
        "p.greet()"
      ],
      "metadata": {
        "colab": {
          "base_uri": "https://localhost:8080/"
        },
        "id": "e10litaQvZqz",
        "outputId": "b5613b08-dbd4-4e91-9f26-50ae94e645c5"
      },
      "execution_count": 16,
      "outputs": [
        {
          "output_type": "stream",
          "name": "stdout",
          "text": [
            "Hello, my name is John and I am 30 years old.\n"
          ]
        }
      ]
    },
    {
      "cell_type": "code",
      "source": [
        "# 12. Implement a class Student with attributes name and grades. Create a method average_grade() to compute\n",
        "# the average of the grades.\n",
        "class Student:\n",
        "    def __init__(self, name, grades):\n",
        "        self.name = name\n",
        "        self.grades = grades\n",
        "\n",
        "    def average_grade(self):\n",
        "        return sum(self.grades) / len(self.grades)\n",
        "\n",
        "s = Student(\"Alex\", [80, 90, 85])\n",
        "print(\"Average grade:\", s.average_grade())"
      ],
      "metadata": {
        "colab": {
          "base_uri": "https://localhost:8080/"
        },
        "id": "TLo2WJ_PvfMc",
        "outputId": "39dcda14-435b-44ba-b74e-9b4acd9df288"
      },
      "execution_count": 17,
      "outputs": [
        {
          "output_type": "stream",
          "name": "stdout",
          "text": [
            "Average grade: 85.0\n"
          ]
        }
      ]
    },
    {
      "cell_type": "code",
      "source": [
        "#  13. Create a class Rectangle with methods set_dimensions() to set the dimensions and area() to calculate the\n",
        "# area.\n",
        "class Rectangle:\n",
        "    def set_dimensions(self, length, width):\n",
        "        self.length = length\n",
        "        self.width = width\n",
        "\n",
        "    def area(self):\n",
        "        return self.length * self.width\n",
        "\n",
        "r = Rectangle()\n",
        "r.set_dimensions(5, 6)\n",
        "print(\"Area:\", r.area())"
      ],
      "metadata": {
        "colab": {
          "base_uri": "https://localhost:8080/"
        },
        "id": "THF4ioZ_vnTG",
        "outputId": "eb7bd6d3-5a18-454b-8914-9bf166c6e6bd"
      },
      "execution_count": 18,
      "outputs": [
        {
          "output_type": "stream",
          "name": "stdout",
          "text": [
            "Area: 30\n"
          ]
        }
      ]
    },
    {
      "cell_type": "code",
      "source": [
        "#  14. Create a class Employee with a method calculate_salary() that computes the salary based on hours worked\n",
        "# and hourly rate. Create a derived class Manager that adds a bonus to the salary.\n",
        "class Employee:\n",
        "    def calculate_salary(self, hours, rate):\n",
        "        return hours * rate\n",
        "\n",
        "class Manager(Employee):\n",
        "    def calculate_salary(self, hours, rate, bonus):\n",
        "        base = super().calculate_salary(hours, rate)\n",
        "        return base + bonus\n",
        "\n",
        "e = Employee()\n",
        "m = Manager()\n",
        "print(\"Employee salary:\", e.calculate_salary(40, 20))\n",
        "print(\"Manager salary:\", m.calculate_salary(40, 20, 500))\n"
      ],
      "metadata": {
        "colab": {
          "base_uri": "https://localhost:8080/"
        },
        "id": "MGT7KY1rvq_Z",
        "outputId": "9ffc8230-01a4-43af-c30d-80bfbe983e84"
      },
      "execution_count": 19,
      "outputs": [
        {
          "output_type": "stream",
          "name": "stdout",
          "text": [
            "Employee salary: 800\n",
            "Manager salary: 1300\n"
          ]
        }
      ]
    },
    {
      "cell_type": "code",
      "source": [
        "# 15. Create a class Product with attributes name, price, and quantity. Implement a method total_price() that\n",
        "# calculates the total price of the product.\n",
        "class Product:\n",
        "    def __init__(self, name, price, quantity):\n",
        "        self.name = name\n",
        "        self.price = price\n",
        "        self.quantity = quantity\n",
        "\n",
        "    def total_price(self):\n",
        "        return self.price * self.quantity\n",
        "\n",
        "# Example usage\n",
        "p = Product(\"Laptop\", 50000, 2)\n",
        "print(f\"Product: {p.name}\")\n",
        "print(f\"Price per item: ₹{p.price}\")\n",
        "print(f\"Quantity: {p.quantity}\")\n",
        "print(f\"Total Price: ₹{p.total_price()}\")"
      ],
      "metadata": {
        "colab": {
          "base_uri": "https://localhost:8080/"
        },
        "id": "L2GhTiRDvv54",
        "outputId": "89f3fe5b-8b25-4e92-c109-4a0b3f076917"
      },
      "execution_count": 20,
      "outputs": [
        {
          "output_type": "stream",
          "name": "stdout",
          "text": [
            "Product: Laptop\n",
            "Price per item: ₹50000\n",
            "Quantity: 2\n",
            "Total Price: ₹100000\n"
          ]
        }
      ]
    },
    {
      "cell_type": "code",
      "source": [
        "#  16. Create a class Animal with an abstract method sound(). Create two derived classes Cow and Sheep that\n",
        "#  implement the sound() method.\n",
        "from abc import ABC, abstractmethod\n",
        "\n",
        "class Animal(ABC):\n",
        "    @abstractmethod\n",
        "    def sound(self):\n",
        "        pass\n",
        "\n",
        "class Cow(Animal):\n",
        "    def sound(self):\n",
        "        return \"Moo\"\n",
        "\n",
        "class Sheep(Animal):\n",
        "    def sound(self):\n",
        "        return \"Baa\"\n",
        "\n",
        "# Example usage\n",
        "animals = [Cow(), Sheep()]\n",
        "for animal in animals:\n",
        "    print(f\"{animal.__class__.__name__} makes sound: {animal.sound()}\")"
      ],
      "metadata": {
        "colab": {
          "base_uri": "https://localhost:8080/"
        },
        "id": "9iJaoz8Bv1vg",
        "outputId": "27232a73-6436-47c9-8319-d31f836ea1d9"
      },
      "execution_count": 21,
      "outputs": [
        {
          "output_type": "stream",
          "name": "stdout",
          "text": [
            "Cow makes sound: Moo\n",
            "Sheep makes sound: Baa\n"
          ]
        }
      ]
    },
    {
      "cell_type": "code",
      "source": [
        "#  17. Create a class Book with attributes title, author, and year_published. Add a method get_book_info() that\n",
        "# returns a formatted string with the book's details.\n",
        "class Book:\n",
        "    def __init__(self, title, author, year_published):\n",
        "        self.title = title\n",
        "        self.author = author\n",
        "        self.year_published = year_published\n",
        "\n",
        "    def get_book_info(self):\n",
        "        return f\"'{self.title}' by {self.author}, published in {self.year_published}\"\n",
        "\n",
        "# Example usage\n",
        "book1 = Book(\"The Alchemist\", \"Paulo Coelho\", 1988)\n",
        "print(book1.get_book_info())"
      ],
      "metadata": {
        "colab": {
          "base_uri": "https://localhost:8080/"
        },
        "id": "z1NRcC__v7PD",
        "outputId": "8c9d0cbf-c4c8-461e-9f27-d2ed374b02f9"
      },
      "execution_count": 22,
      "outputs": [
        {
          "output_type": "stream",
          "name": "stdout",
          "text": [
            "'The Alchemist' by Paulo Coelho, published in 1988\n"
          ]
        }
      ]
    },
    {
      "cell_type": "code",
      "source": [
        "# 18. Create a class House with attributes address and price. Create a derived class Mansion that adds an\n",
        "# attribute number_of_rooms.\n",
        "class House:\n",
        "    def __init__(self, address, price):\n",
        "        self.address = address\n",
        "        self.price = price\n",
        "\n",
        "    def get_info(self):\n",
        "        return f\"Address: {self.address}, Price: ₹{self.price}\"\n",
        "\n",
        "class Mansion(House):\n",
        "    def __init__(self, address, price, number_of_rooms):\n",
        "        super().__init__(address, price)\n",
        "        self.number_of_rooms = number_of_rooms\n",
        "\n",
        "    def get_info(self):\n",
        "        base_info = super().get_info()\n",
        "        return f\"{base_info}, Rooms: {self.number_of_rooms}\"\n",
        "\n",
        "# Example usage\n",
        "m1 = Mansion(\"123 Luxury Lane, Mumbai\", 50000000, 10)\n",
        "print(m1.get_info())"
      ],
      "metadata": {
        "colab": {
          "base_uri": "https://localhost:8080/"
        },
        "id": "xB4s511iwAFI",
        "outputId": "c63140e0-3781-417f-dde4-894943208055"
      },
      "execution_count": 23,
      "outputs": [
        {
          "output_type": "stream",
          "name": "stdout",
          "text": [
            "Address: 123 Luxury Lane, Mumbai, Price: ₹50000000, Rooms: 10\n"
          ]
        }
      ]
    }
  ]
}